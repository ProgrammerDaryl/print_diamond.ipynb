{
 "cells": [
  {
   "cell_type": "code",
   "execution_count": null,
   "metadata": {},
   "outputs": [],
   "source": [
    "# greet the user\n",
    "print(\"Greetings, User!\")\n",
    "# ask the user to input a number/width\n",
    "number = int(input(\"Please enter the width(odd) of the diamond here!: \"))\n",
    "\n",
    "# dealing with negative numbers\n",
    "if number < 0:\n",
    "    print(\"You can't put a negative integer!\")\n",
    "\n",
    "# dealing with even numbers\n",
    "elif number % 2 == 0:\n",
    "    print(\"Please provide an odd number.\")\n",
    "\n",
    "# dealing with odd numbers\n",
    "else:\n",
    "    # for the top part of the diamond\n",
    "    for i in range(1, number // 2 + 2):\n",
    "        blanks = (number // 2 + 1) - i\n",
    "        asterisks = 2 * i - 1\n",
    "        print(\" \" * blanks + \"*\" * asterisks)\n",
    "    # for the bottom part of the diamond\n",
    "    for i in range(number // 2, 0, -1):\n",
    "        spaces = (number // 2 + 1) - i\n",
    "        stars = 2 * i - 1\n",
    "        print(\" \" * spaces + \"*\" * stars)"
   ]
  }
 ],
 "metadata": {
  "language_info": {
   "name": "python"
  }
 },
 "nbformat": 4,
 "nbformat_minor": 2
}
