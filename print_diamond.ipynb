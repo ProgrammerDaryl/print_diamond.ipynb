{
 "cells": [
  {
   "cell_type": "code",
   "execution_count": null,
   "metadata": {},
   "outputs": [],
   "source": [
    "# greet the user\n",
    "print(\"Greetings, User!\")\n",
    "# ask the user to input a number/width\n",
    "number = int(input(\"Please enter the width of the diamond here!:\"))\n"
   ]
  }
 ],
 "metadata": {
  "language_info": {
   "name": "python"
  }
 },
 "nbformat": 4,
 "nbformat_minor": 2
}
