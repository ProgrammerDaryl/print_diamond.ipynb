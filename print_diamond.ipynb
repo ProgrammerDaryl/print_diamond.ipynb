{
 "cells": [
  {
   "cell_type": "code",
   "execution_count": null,
   "metadata": {},
   "outputs": [],
   "source": [
    "# greet the user\n",
    "print(\"Greetings, User!\")\n",
    "# ask the user to input a number/width\n",
    "number = int(input(\"Please enter the width of the diamond here!:\"))\n",
    "\n",
    "# dealing with negative numbers\n",
    "if number < 0:\n",
    "    print(\"You can't put a negative integer!\")\n",
    "\n",
    "# dealing with even numbers\n",
    "elif number % 2 == 0:\n",
    "    print(\"Please provide an odd number.\")\n",
    "\n",
    "# dealing with odd numbers\n",
    "else:\n",
    "    "
   ]
  }
 ],
 "metadata": {
  "language_info": {
   "name": "python"
  }
 },
 "nbformat": 4,
 "nbformat_minor": 2
}
